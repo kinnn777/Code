{
 "cells": [
  {
   "cell_type": "code",
   "execution_count": 1,
   "metadata": {},
   "outputs": [],
   "source": [
    "import random\n",
    "from random import shuffle\n",
    "import glob\n",
    "import numpy as np\n",
    "import h5py\n",
    "import cv2\n",
    "import os\n",
    "import pandas as pd\n",
    "import h5py\n",
    "import os"
   ]
  },
  {
   "cell_type": "code",
   "execution_count": 2,
   "metadata": {},
   "outputs": [],
   "source": [
    "shuffle_data = True\n",
    "image_path = './data/*.jpg'\n",
    "addrs = glob.glob(image_path)\n",
    "addrs = np.string_(addrs)"
   ]
  },
  {
   "cell_type": "code",
   "execution_count": 5,
   "metadata": {},
   "outputs": [],
   "source": [
    "if shuffle_data:\n",
    "   # c = list(zip(addrs, labels))\n",
    "    shuffle(addrs)\n",
    "    #addrs, labels = zip(*c)"
   ]
  },
  {
   "cell_type": "code",
   "execution_count": 6,
   "metadata": {},
   "outputs": [],
   "source": [
    "test_addrs = addrs[int(0.9*len(addrs)):]\n",
    "\n",
    "dev_addrs = addrs[int(0.8*len(addrs)):int(0.9*len(addrs))]\n",
    "\n",
    "train_addrs = addrs[0:int(0.8*len(addrs))]"
   ]
  },
  {
   "cell_type": "code",
   "execution_count": 31,
   "metadata": {},
   "outputs": [],
   "source": [
    "# address to where you want to save the hdf5 file\n",
    "train_path = \"./data/train/\"\n",
    "test_path = \"./data/test/\"\n",
    "dev_path = \"./data/dev/\"\n",
    "img_width = 100\n",
    "img_height = 100"
   ]
  },
  {
   "cell_type": "code",
   "execution_count": 32,
   "metadata": {},
   "outputs": [],
   "source": [
    "def save_images_2_destination(dataset, destDir):\n",
    "    for i in range(len(dataset)):\n",
    "        im = dataset[i]\n",
    "        fileName = (os.path.basename(im)).decode('UTF-8')\n",
    "        #trunk the file name by removing rotations.\n",
    "        pos = fileName.find('tif') + 3\n",
    "        fileName = fileName[: pos]\n",
    "        fileName = destDir + fileName\n",
    "        img = cv2.imread(im.decode('utf-8')) #load image\n",
    "        cv2.imwrite(fileName,img) #write image\n",
    "    "
   ]
  },
  {
   "cell_type": "code",
   "execution_count": 33,
   "metadata": {},
   "outputs": [],
   "source": [
    "save_images_2_destination(dev_addrs, dev_path)"
   ]
  },
  {
   "cell_type": "code",
   "execution_count": 34,
   "metadata": {},
   "outputs": [],
   "source": [
    "save_images_2_destination(test_addrs, test_path)"
   ]
  },
  {
   "cell_type": "code",
   "execution_count": 35,
   "metadata": {},
   "outputs": [],
   "source": [
    "save_images_2_destination(train_addrs, train_path)"
   ]
  }
 ],
 "metadata": {
  "kernelspec": {
   "display_name": "Python 3",
   "language": "python",
   "name": "python3"
  },
  "language_info": {
   "codemirror_mode": {
    "name": "ipython",
    "version": 3
   },
   "file_extension": ".py",
   "mimetype": "text/x-python",
   "name": "python",
   "nbconvert_exporter": "python",
   "pygments_lexer": "ipython3",
   "version": "3.7.6"
  },
  "vscode": {
   "interpreter": {
    "hash": "082bd1cb04d28c61bf8f444dd2514aaa1445b5335bf61d7f3e0a9ed0d28b3c4b"
   }
  }
 },
 "nbformat": 4,
 "nbformat_minor": 4
}
