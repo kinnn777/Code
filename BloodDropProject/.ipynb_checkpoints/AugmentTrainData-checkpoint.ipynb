{
 "cells": [
  {
   "cell_type": "code",
   "execution_count": 1,
   "metadata": {},
   "outputs": [
    {
     "name": "stderr",
     "output_type": "stream",
     "text": [
      "Using TensorFlow backend.\n"
     ]
    }
   ],
   "source": [
    "\n",
    "import glob\n",
    "import numpy as np\n",
    "import cv2\n",
    "import tensorflow as tf\n",
    "import keras"
   ]
  },
  {
   "cell_type": "code",
   "execution_count": 2,
   "metadata": {},
   "outputs": [],
   "source": [
    "img_width = 100\n",
    "img_height = 100"
   ]
  },
  {
   "cell_type": "code",
   "execution_count": 3,
   "metadata": {},
   "outputs": [],
   "source": [
    "shuffle_data = True  # shuffle the addresses before saving\n",
    "train_path = './images/*.tif'\n",
    "output_path = './images_rotated/'\n",
    "# read addresses and labels from the 'train' folder\n",
    "file_paths = glob.glob(train_path)\n",
    "img_bytes = np.string_(file_paths)\n",
    "\n"
   ]
  },
  {
   "cell_type": "code",
   "execution_count": 7,
   "metadata": {
    "pycharm": {
     "name": "#%%\n"
    }
   },
   "outputs": [],
   "source": [
    "from keras_preprocessing.image import ImageDataGenerator\n",
    "from numpy import expand_dims\n",
    "#from keras.preprocessing.image import load_img, img_to_array, save_img\n",
    "from tensorflow.keras.utils import load_img, img_to_array, save_img\n",
    "\n",
    "# loop over train addresses\n",
    "for i in range(len(file_paths)):\n",
    "   \n",
    "    # read an image \n",
    "    file_path = file_paths[i]\n",
    "    file_name = file_path.split('\\\\')[1]\n",
    "    \n",
    "    # cv2 load images as Grayscale\n",
    "    img = load_img(file_path)\n",
    "    \n",
    "    # convert image to a numpy array\n",
    "    img_array = img_to_array(img)\n",
    "\n",
    "    samples = expand_dims(img_array, 0)\n",
    "    # create image data augmentation generator\n",
    "    datagen = ImageDataGenerator(rotation_range=30, fill_mode='constant', cval=255.0)\n",
    "    # prepare iterator\n",
    "    it = datagen.flow(samples, batch_size=1)\n",
    "    for j in range(9):\n",
    "        # generate batch of images\n",
    "        batch = it.next()\n",
    "        # save the image with a new filename\n",
    "        save_img(output_path + file_name + '_rotation_' + str(j) + '.jpg', batch[0])"
   ]
  },
  {
   "cell_type": "code",
   "execution_count": null,
   "metadata": {},
   "outputs": [],
   "source": []
  }
 ],
 "metadata": {
  "kernelspec": {
   "display_name": "Python 3",
   "language": "python",
   "name": "python3"
  },
  "language_info": {
   "codemirror_mode": {
    "name": "ipython",
    "version": 3
   },
   "file_extension": ".py",
   "mimetype": "text/x-python",
   "name": "python",
   "nbconvert_exporter": "python",
   "pygments_lexer": "ipython3",
   "version": "3.7.6"
  }
 },
 "nbformat": 4,
 "nbformat_minor": 2
}
